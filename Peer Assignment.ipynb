{
 "cells": [
  {
   "cell_type": "markdown",
   "id": "0b627091-5ecd-488b-b8e1-a3bfd23e6662",
   "metadata": {},
   "source": [
    "# Final Project: Data Science Tools and Examples\n"
   ]
  },
  {
   "cell_type": "markdown",
   "id": "22283b5e-b434-4298-9455-bd95fd67ae4e",
   "metadata": {},
   "source": [
    "## Introduction  \n",
    "This notebook provides an overview of essential data science tools, languages, and libraries. Additionally, it includes examples of basic arithmetic operations and code demonstrations.\n"
   ]
  },
  {
   "cell_type": "markdown",
   "id": "cf50112a-7920-4551-94bd-37a676bccf50",
   "metadata": {},
   "source": [
    "## Data Science Languages  \n",
    "- Python  \n",
    "- R  \n",
    "- SQL  \n",
    "- Java\n"
   ]
  },
  {
   "cell_type": "markdown",
   "id": "1e9ce3be-9c4b-434e-a84b-df74b1a940c2",
   "metadata": {},
   "source": [
    "## Data Science Libraries  \n",
    "- NumPy  \n",
    "- Pandas  \n",
    "- Matplotlib  \n",
    "- Scikit-learn  \n",
    "- TensorFlow  \n",
    "- ggplot2 (R)  \n"
   ]
  },
  {
   "cell_type": "markdown",
   "id": "ac786a1e-66c4-4ecc-bce0-289e43e4eaf9",
   "metadata": {},
   "source": [
    "## Data Science Tools  \n",
    "\n",
    "| Tool              | Description                           |  \n",
    "|-------------------|---------------------------------------|  \n",
    "| Jupyter Notebook  | Interactive computing environment     |  \n",
    "| RStudio           | IDE for R                             |  \n",
    "| Apache Hadoop     | Big data processing                   |  \n",
    "| Tableau           | Data visualization                    |  \n"
   ]
  },
  {
   "cell_type": "markdown",
   "id": "358dab0f-0dbc-45a6-8b66-c50108862c3f",
   "metadata": {},
   "source": [
    "## Arithmetic Expression Examples  \n",
    "Below are examples of basic arithmetic operations such as addition and multiplication.\n"
   ]
  },
  {
   "cell_type": "code",
   "execution_count": 1,
   "id": "ab9d01c5-d73b-4340-8745-298baa03926c",
   "metadata": {},
   "outputs": [
    {
     "data": {
      "text/plain": [
       "17"
      ]
     },
     "execution_count": 1,
     "metadata": {},
     "output_type": "execute_result"
    }
   ],
   "source": [
    "# Multiplication and addition example  \n",
    "result = (3 * 4) + 5  \n",
    "result  \n"
   ]
  },
  {
   "cell_type": "code",
   "execution_count": 3,
   "id": "c91e966a-3c44-45a2-82b3-369e91f3f536",
   "metadata": {},
   "outputs": [
    {
     "data": {
      "text/plain": [
       "1.6666666666666667"
      ]
     },
     "execution_count": 3,
     "metadata": {},
     "output_type": "execute_result"
    }
   ],
   "source": [
    "# Convert minutes to hours  \n",
    "minutes = 100 \n",
    "hours = minutes / 60  \n",
    "hours  \n"
   ]
  },
  {
   "cell_type": "markdown",
   "id": "7c9e39bc-31ac-4f8f-b9f5-20484cd1956e",
   "metadata": {},
   "source": [
    "## Objectives  \n",
    "- List popular data science languages.  \n",
    "- Identify essential libraries used in data science.  \n",
    "- Demonstrate basic arithmetic operations in Python.  \n",
    "- Share a notebook using GitHub.  \n"
   ]
  },
  {
   "cell_type": "markdown",
   "id": "99d36551-0d3c-4dc5-93ce-eb2138f1e1ed",
   "metadata": {},
   "source": [
    "## Author  \n",
    "John Doe  \n"
   ]
  }
 ],
 "metadata": {
  "kernelspec": {
   "display_name": "Python 3 (ipykernel)",
   "language": "python",
   "name": "python3"
  },
  "language_info": {
   "codemirror_mode": {
    "name": "ipython",
    "version": 3
   },
   "file_extension": ".py",
   "mimetype": "text/x-python",
   "name": "python",
   "nbconvert_exporter": "python",
   "pygments_lexer": "ipython3",
   "version": "3.12.7"
  }
 },
 "nbformat": 4,
 "nbformat_minor": 5
}
